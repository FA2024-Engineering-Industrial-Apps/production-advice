{
 "cells": [
  {
   "attachments": {},
   "cell_type": "markdown",
   "id": "14d2a0b1",
   "metadata": {},
   "source": [
    "# A general overview of  the implemented Algorithm in Serial, Hybrid and Parallel Brute Force Codes \n",
    "\n"
   ]
  },
  {
   "cell_type": "markdown",
   "id": "58be02a8",
   "metadata": {},
   "source": [
    "## Sample Problem\n",
    "\n",
    "#### Given a list of PCBs {'PCB01', 'PCB02', 'PCB03', 'PCB04', 'PCB05’}.\n",
    "\n",
    "#### Identify all valid combinations of this set that meet specific criteria (slot width limit) and contain the minimum number of groups."
   ]
  },
  {
   "cell_type": "markdown",
   "id": "fa8e7991",
   "metadata": {},
   "source": [
    "### Serial Brute Forcing Algorithm\n",
    "This algorithm aims to find the optimal grouping of PCBs by iteratively forming and evaluating combinations. Starting with the first PCB, it forms an initial group and removes it from the list. The algorithm then adds subsequent PCBs to existing groups, checking if they form valid groups.The size of the first valid combination is recorded as the initial minimum number of groups. As new combinations are generated, any that exceed this minimum size are ignored. If a smaller valid combination is found, the minimum value is updated, and larger combinations are discarded. This approach ensures that the algorithm efficiently converges to the smallest possible grouping of PCBs.\n",
    "\n",
    "This algorithm follows these steps:\n"
   ]
  },
  {
   "cell_type": "markdown",
   "id": "2500ae49",
   "metadata": {},
   "source": [
    " #### 1. Form a group with the first PCB in the list and remove it from the PBC list:\n",
    " \n",
    "\n",
    "Best_Combination = {{'PCB01’}}   \n",
    "\n",
    "PCB_list= {'PCB02', 'PCB03', 'PCB04', 'PCB05’}\n",
    "\n",
    "\n"
   ]
  },
  {
   "cell_type": "markdown",
   "id": "429cc77f",
   "metadata": {},
   "source": [
    "#### 2. Add the first PCB from the PCBs list to the existing group and check if they form a valid group. If they do not, place it in a new group:\n",
    "\n",
    "###### Is a valid group:\n",
    "\n",
    "Best_combination = {{'PCB01','PCB02'}} \n",
    "\n",
    "PCB_list = {'PCB03','PCB04','PCB05'}\n",
    "\n",
    "\n",
    "##### Is not a valid group:\n",
    "\n",
    "Best_combination ={{'PCB01'},{'PCB02'}} \n",
    "\n",
    "PCB_list = {'PCB03','PCB04','PCB05'}\n"
   ]
  },
  {
   "attachments": {},
   "cell_type": "markdown",
   "id": "002c8168",
   "metadata": {},
   "source": [
    "#### 3. Repeat step 2 until the PCB list becomes empty.\n",
    "\n",
    "Best_combination ={{'PCB01','PCB03'},{'PCB02','PCB05'},{'PCB04'}} \n",
    "\n",
    "PCB_list = {}\n",
    "\n",
    "\n"
   ]
  }
}

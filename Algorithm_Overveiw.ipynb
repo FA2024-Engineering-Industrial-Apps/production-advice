{
 "cells": [
  {
   "attachments": {},
   "cell_type": "markdown",
   "id": "14d2a0b1",
   "metadata": {},
   "source": [
    "# A general overview of  the implemented Algorithm in Serial, Hybrid and Parallel Brute Force Codes \n",
    "\n"
   ]
  },
  {
   "cell_type": "markdown",
   "id": "58be02a8",
   "metadata": {},
   "source": [
    "## Sample Problem\n",
    "\n",
    "#### Given a list of PCBs {'PCB01', 'PCB02', 'PCB03', 'PCB04', 'PCB05’}.\n",
    "\n",
    "#### Identify all valid combinations of this set that meet specific criteria (slot width limit) and contain the minimum number of groups."
   ]
  },
  {
   "cell_type": "markdown",
   "id": "fa8e7991",
   "metadata": {},
   "source": [
    "### Serial Brute Forcing Algorithm\n",
    "This algorithm aims to find the optimal grouping of PCBs by iteratively forming and evaluating combinations. Starting with the first PCB, it forms an initial group and removes it from the list. The algorithm then adds subsequent PCBs to existing groups, checking if they form valid groups.The size of the first valid combination is recorded as the initial minimum number of groups. As new combinations are generated, any that exceed this minimum size are ignored. If a smaller valid combination is found, the minimum value is updated, and larger combinations are discarded. This approach ensures that the algorithm efficiently converges to the smallest possible grouping of PCBs.\n",
    "\n",
    "This algorithm follows these steps:\n"
   ]
  },
  {
   "cell_type": "markdown",
   "id": "2500ae49",
   "metadata": {},
   "source": [
    " #### 1. Form a group with the first PCB in the list and remove it from the PBC list:\n",
    " \n",
    "\n",
    "Best_Combination = {{'PCB01’}}   \n",
    "\n",
    "PCB_list= {'PCB02', 'PCB03', 'PCB04', 'PCB05’}\n",
    "\n",
    "\n"
   ]
  },
  {
   "cell_type": "markdown",
   "id": "429cc77f",
   "metadata": {},
   "source": [
    "#### 2. Add the first PCB from the PCBs list to the existing group and check if they form a valid group. If they do not, place it in a new group:\n",
    "\n",
    "###### Is a valid group:\n",
    "\n",
    "Best_combination = {{'PCB01','PCB02'}} \n",
    "\n",
    "PCB_list = {'PCB03','PCB04','PCB05'}\n",
    "\n",
    "\n",
    "##### Is not a valid group:\n",
    "\n",
    "Best_combination ={{'PCB01'},{'PCB02'}} \n",
    "\n",
    "PCB_list = {'PCB03','PCB04','PCB05'}\n"
   ]
  },
  {
   "attachments": {},
   "cell_type": "markdown",
   "id": "002c8168",
   "metadata": {},
   "source": [
    "#### 3. Repeat step 2 until the PCB list becomes empty.\n",
    "\n",
    "Best_combination ={{'PCB01','PCB03'},{'PCB02','PCB05'},{'PCB04'}} \n",
    "\n",
    "PCB_list = {}\n",
    "\n",
    "\n"
   ]
  },
  {
   "cell_type": "markdown",
   "id": "313e6a4e",
   "metadata": {},
   "source": [
    "### Hybrid Brute Forcing Algorithm"
   ]
  },
  {
   "cell_type": "markdown",
   "id": "7d774c4d",
   "metadata": {},
   "source": [
    "The aim of this algorithm is to accelerate the serial algorithm by using prior knowledge before starting the combination generation. To achieve this, the minimum number of groups is calculated through parallel searching. Each processor is assigned a specific group size to evaluate. This approach allows the algorithm to determine the minimum number of groups efficiently. In the next step, the serial algorithm generates valid combinations using only this specified group size, significantly speeding up the process.\n",
    "\n",
    "This algorithm follows these steps:\n"
   ]
  },
  {
   "cell_type": "markdown",
   "id": "ffa9be2b",
   "metadata": {},
   "source": [
    " #### 1. Searching in parallel for minimum number of groups in a valid combination:\n",
    " \n",
    " min_num_groups = 3\n",
    " \n",
    " #### 2. Start generating only combinations with specified group length (min_num_groups):\n",
    "\n",
    "Best_combination ={{'PCB01','PCB03'},{'PCB02','PCB05'},{'PCB04'}}             \n",
    "\n",
    "Best_combination ={{'PCB01','PCB03'},{'PCB02'},{'PCB04','PCB05'}}             \n",
    "\n",
    "Best_combination ={{'PCB01'},{'PCB02','PCB03'},{'PCB04','PCB05'}}             \n",
    "\n",
    "Best_combination ={{'PCB01'},{'PCB02','PCB05'},{'PCB03','PCB04'}}             \n",
    "\n"
   ]
  },
  {
   "cell_type": "markdown",
   "id": "e066a330",
   "metadata": {},
   "source": [
    "### Parallel Brute Forcing Algorithm"
   ]
  },
  {
   "cell_type": "markdown",
   "id": "2090930e",
   "metadata": {},
   "source": [
    "This algorithm is designed to leverage parallel processing on CPUs. Initially, it follows the same approach as the hybrid algorithm, aiming to find the minimum number of groups in a valid combination through parallel processing. In the combination generation stage, the workload is distributed among processes to enhance efficiency. This is achieved by identifying valid groups of size 2 and distributing these groups among the processes. Each process then starts generating combinations, beginning with its specified group. This parallelization strategy ensures an efficient and balanced workload distribution, accelerating the overall process of finding optimal PCB groupings.\n",
    "\n",
    "This algorithm follows these steps:\n"
   ]
  },
  {
   "cell_type": "markdown",
   "id": "e50b9cb2",
   "metadata": {},
   "source": [
    "#### 1. Searching in parallel for minimum number of groups in a valid combination:\n",
    "min_num_groups = 4"
   ]
  },
  {
   "cell_type": "markdown",
   "id": "d7293423",
   "metadata": {},
   "source": [
    "#### 2. Starting with the first PCB, generate a list of all possible groups of size 2 that include this PCB:\n",
    "NOTE: The group size acts as a hyperparameter and can be optimized based on the specific problem.\n",
    "\n",
    "PCB01_pairs = {({'PCB01’,'PCB03’})}"
   ]
  },
  {
   "cell_type": "markdown",
   "id": "56597329",
   "metadata": {},
   "source": [
    "#### 3. Distribute each element of the list generated in Step 2 among all processes:\n",
    "\n",
    "Process_1 = ({'PCB01’,'PCB03’})\n"
   ]
  },
  {
   "cell_type": "markdown",
   "id": "51edc126",
   "metadata": {},
   "source": [
    "#### 4. Each processor begins the combination generation process in parallel with its assigned starting group:\n",
    "\n",
    "Process_1: Best_combination ={{'PCB01','PCB03'},{'PCB02','PCB05'},{'PCB04'}}             \n",
    "\n",
    "Process_1: Best_combination ={{'PCB01','PCB03'},{'PCB02'},{'PCB04','PCB05'}}             "
   ]
  },
  {
   "cell_type": "markdown",
   "id": "04bf0e55",
   "metadata": {},
   "source": [
    "#### 5. After storing the generated combinations, repeat Step 2 with the next PCB in the list:\n",
    "\n",
    "PCB02_pairs = {({'PCB02','PCB03'}),({'PCB02','PCB05'})}\n",
    "\n",
    "#### 6. Similar to Step 3, distribute each element of this list to the processes as starting groups. Additionally, include a group consisting of a single PCB from the previous step.\n",
    "\n",
    "\n",
    "Process_1 = ({'PCB01’},{'PCB02’,'PCB03’})\n",
    "\n",
    "Process_2 = ({'PCB01’},{'PCB02’,'PCB05’})\n",
    "\n",
    "\n",
    "Process_1: Best_combination ={{'PCB01’},{'PCB02’,'PCB03’},{'PCB04’,'PCB05’}}             \n",
    "\n",
    "Process_2: Best_combination ={{'PCB01’},{'PCB02’,'PCB05’},{'PCB03’,'PCB04’}}             \n",
    "\n",
    "\n"
   ]
  }
 ],
 "metadata": {
  "kernelspec": {
   "display_name": "Python 3 (ipykernel)",
   "language": "python",
   "name": "python3"
  },
  "language_info": {
   "codemirror_mode": {
    "name": "ipython",
    "version": 3
   },
   "file_extension": ".py",
   "mimetype": "text/x-python",
   "name": "python",
   "nbconvert_exporter": "python",
   "pygments_lexer": "ipython3",
   "version": "3.11.5"
  }
 },
 "nbformat": 4,
 "nbformat_minor": 5
}
